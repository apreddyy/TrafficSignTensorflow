{
 "cells": [
  {
   "cell_type": "markdown",
   "metadata": {},
   "source": [
    "1: This Section loads all the required Libraries"
   ]
  },
  {
   "cell_type": "code",
   "execution_count": 1,
   "metadata": {},
   "outputs": [],
   "source": [
    "import numpy as np\n",
    "import glob\n",
    "import random\n",
    "import pickle\n",
    "import matplotlib.image as mpimg\n",
    "import matplotlib.pyplot as plt\n",
    "from sklearn.utils import shuffle\n",
    "import tensorflow as tf\n",
    "from tensorflow.python.layers.core import Flatten\n",
    "from scipy import ndimage\n",
    "import pandas as pd\n",
    "import cv2\n",
    "from math import ceil, floor\n",
    "import matplotlib.patches as mpatches"
   ]
  },
  {
   "cell_type": "markdown",
   "metadata": {},
   "source": [
    "## Step 0: Load The Data\n",
    "2: This Section loads all the Training, Validation, Test data from pickel files."
   ]
  },
  {
   "cell_type": "code",
   "execution_count": 2,
   "metadata": {},
   "outputs": [],
   "source": [
    "training_file = 'train.p'\n",
    "validation_file= 'valid.p'\n",
    "testing_file = 'test.p'"
   ]
  },
  {
   "cell_type": "markdown",
   "metadata": {},
   "source": [
    "## Step 1: Dataset Summary & Exploration and Include an exploratory visualization of the dataset\n",
    "3: This Section assigns the variables all the Training, Validation, Test data from pickel files, and declarition of Variables required \n",
    "for this project.\n",
    "Also shows the output of No of traning, validation, test and size of image "
   ]
  },
  {
   "cell_type": "code",
   "execution_count": 3,
   "metadata": {},
   "outputs": [
    {
     "name": "stdout",
     "output_type": "stream",
     "text": [
      "Image Shape: {} (32, 32, 3)\n",
      "Training Set: 34799\n",
      "Validation Set: 4410\n",
      "Test Set: 12630\n",
      "Number of classes = Tensor(\"one_hot:0\", dtype=float32)\n"
     ]
    }
   ],
   "source": [
    "with open(training_file, mode='rb') as f:\n",
    "    train = pickle.load(f)\n",
    "with open(validation_file, mode='rb') as f:\n",
    "    valid = pickle.load(f)\n",
    "with open(testing_file, mode='rb') as f:\n",
    "    test = pickle.load(f)\n",
    "    \n",
    "X_train, y_train = train['features'], train['labels']\n",
    "X_valid, y_valid = valid['features'], valid['labels']\n",
    "X_test, y_test = test['features'], test['labels']\n",
    "\n",
    "Train_accuracy = []\n",
    "Validation_accuracy = []\n",
    "n_train = len(X_train)\n",
    "n_validation = len(X_valid)\n",
    "n_test = len(X_test)\n",
    "image_shape = X_train[0].shape\n",
    "input_data = tf.placeholder(tf.float32, (None,32,32,1))\n",
    "keep_prob = tf.placeholder(tf.float32)\n",
    "y = tf.placeholder(tf.int32, (None))\n",
    "n_classes = tf.one_hot(y, 43)\n",
    "\n",
    "assert(len(X_train) == len(y_train))\n",
    "assert(len(X_valid) == len(y_valid))\n",
    "assert(len(X_test) == len(y_test))\n",
    "\n",
    "print(\"Image Shape: {}\", image_shape)\n",
    "print(\"Training Set:\" , len(X_train))\n",
    "print(\"Validation Set:\" , n_validation )\n",
    "print(\"Test Set:\" , n_test )\n",
    "print(\"Number of classes =\", n_classes)"
   ]
  },
  {
   "cell_type": "code",
   "execution_count": 4,
   "metadata": {},
   "outputs": [
    {
     "name": "stdout",
     "output_type": "stream",
     "text": [
      "Updated Image Shape: (32, 32, 3)\n",
      "9\n"
     ]
    },
    {
     "data": {
      "image/png": "[encoded data removed]",
      "text/plain": [
       "<matplotlib.figure.Figure at 0x28236796e10>"
      ]
     },
     "metadata": {},
     "output_type": "display_data"
    }
   ],
   "source": [
    "print(\"Updated Image Shape: {}\".format(X_train[0].shape))\n",
    "index = random.randint(0, len(X_train))\n",
    "image = X_train[index].squeeze()\n",
    "plt.figure(figsize=(1,1))\n",
    "plt.imshow(image)\n",
    "print(y_train[index])"
   ]
  },
  {
   "cell_type": "markdown",
   "metadata": {},
   "source": [
    "## Step 2: Design and Test a Model Architecture.\n",
    "### Pre-process the Data Set\n",
    "4: This Section is written all the required functions for preprocessing of images on traning and validation.splitdataset function is used to split images and corresponding classes wgich are low and want for which you want to preprocess images to generate more data. The normilization function is used to normilize images. The gray_images function is used to convert images to conver grascale. The down_images function is used to rescale images. The rescale_images function is used to crop and pad images. The counter_classes function is helpful for counting the no of images per classes. The image_process function is used as pipeline to generate images by performing padding, cropping, zoom in and zoom out. "
   ]
  },
  {
   "cell_type": "code",
   "execution_count": 5,
   "metadata": {},
   "outputs": [],
   "source": [
    "def splitdataset(imgs, classes, noclasses, count):\n",
    "    i = 0\n",
    "    j = 0\n",
    "    newtraningset = []\n",
    "    newclasses = []\n",
    "    for i in range(len(noclasses)):\n",
    "        if noclasses[i] <  count:\n",
    "            for j in range(len(imgs)):\n",
    "                if classes[j] == i: \n",
    "                    imagesset =  imgs[j]\n",
    "                    newtraningset.append(imagesset)\n",
    "                    newclasses.append(i)\n",
    "    return newtraningset, newclasses\n",
    "            \n",
    "def normilization(imgs):\n",
    "    normilize_out = []\n",
    "    X = tf.placeholder(tf.float32, shape = (32,32,1))\n",
    "    tf_img = tf.image.per_image_standardization(X)\n",
    "    with tf.Session() as sess:\n",
    "        sess.run(tf.global_variables_initializer())\n",
    "        for img in imgs:\n",
    "            normilize_img = sess.run(tf_img, feed_dict = {X: img})\n",
    "            normilize_out.append(normilize_img)\n",
    "    normilize_out = np.array(normilize_out, dtype = np.float32)\n",
    "    return normilize_out\n",
    "\n",
    "def gray_images(imgs):\n",
    "    gray_out = []\n",
    "    X = tf.placeholder(tf.float32, shape = (32,32,3))\n",
    "    tf_img = tf.image.rgb_to_grayscale(X)\n",
    "    with tf.Session() as sess:\n",
    "        sess.run(tf.global_variables_initializer())\n",
    "        for img in imgs:\n",
    "            gray_img = sess.run(tf_img, feed_dict = {X: img})\n",
    "            gray_out.append(gray_img)\n",
    "    gray_out = np.array(gray_out, dtype = np.float32)\n",
    "    return gray_out\n",
    "\n",
    "def down_images(imgs, height, width):\n",
    "    down_out = []\n",
    "    X = tf.placeholder(tf.float32, shape = (None,None,3))\n",
    "    tf_img = tf.image.resize_images(X, (height, width), tf.image.ResizeMethod.NEAREST_NEIGHBOR)\n",
    "    with tf.Session() as sess:\n",
    "        sess.run(tf.global_variables_initializer())\n",
    "        for img in imgs:\n",
    "            down_img = sess.run(tf_img, feed_dict = {X: img})\n",
    "            down_out.append(down_img)\n",
    "    down_out = np.array(down_out, dtype = np.float32)\n",
    "    return down_out\n",
    "\n",
    "def rescale_images(imgs, height, width):\n",
    "    transporse_out = []\n",
    "    X = tf.placeholder(tf.float32, shape = (None,None,3))\n",
    "    tf_img = tf.image.resize_image_with_crop_or_pad(X, height, width)\n",
    "    with tf.Session() as sess:\n",
    "        sess.run(tf.global_variables_initializer())\n",
    "        for img in imgs:\n",
    "            transporse_img = sess.run(tf_img, feed_dict = {X: img})\n",
    "            transporse_out.append(transporse_img)\n",
    "    transporse_out = np.array(transporse_out, dtype = np.float32)\n",
    "    return transporse_out\n",
    "\n",
    "def counter_classes(ytrain):\n",
    "    classes = []\n",
    "    i = 0\n",
    "    j = 0\n",
    "    for i in range(43):\n",
    "        count = 0\n",
    "        for j in range(len(ytrain)):\n",
    "            if ytrain[j] == i:\n",
    "                count = count+1\n",
    "        classes.append(count)\n",
    "    return classes\n",
    "\n",
    "def image_process(Xtrain, ytrain, valid_images):\n",
    "    c_newa = []\n",
    "    c_newb = []\n",
    "    n_imagesa = []\n",
    "    n_imagesb = []\n",
    "    noclasses = counter_classes(ytrain)\n",
    "    newimages, newclasses = splitdataset(Xtrain, ytrain, noclasses, 400)\n",
    "    \n",
    "    if valid_images == 1:  \n",
    "        d_imagesa = down_images(newimages, 30, 30)\n",
    "        n_imagesb.extend(d_imagesa)\n",
    "        c_newb = np.tile(newclasses, 1)\n",
    "        c_newa.extend(c_newb)\n",
    "        c_newa.extend(ytrain)\n",
    "    else:\n",
    "        d_imagesa = down_images(newimages, 24, 24)\n",
    "        d_imagesb = down_images(newimages, 26, 32)\n",
    "        d_imagesc = down_images(newimages, 32, 26)\n",
    "        d_imagesd = down_images(newimages, 26, 26)\n",
    "        c_newb = np.tile(newclasses, 4)\n",
    "        c_newa.extend(c_newb)\n",
    "        c_newa.extend(ytrain)\n",
    "        n_imagesb.extend(d_imagesa)\n",
    "        n_imagesb.extend(d_imagesb)\n",
    "        n_imagesb.extend(d_imagesc)\n",
    "        n_imagesb.extend(d_imagesd)\n",
    "    \n",
    "    rescale_image = rescale_images(n_imagesb, 32,32)\n",
    "    n_imagesa.extend(rescale_image)\n",
    "    n_imagesa.extend(Xtrain)\n",
    "    \n",
    "    if valid_images == 0:\n",
    "        no_classes = counter_classes(c_newa)\n",
    "        n_images, n_classes = splitdataset(n_imagesa, c_newa, no_classes, 700)\n",
    "        re_image = rescale_images(n_images, 24, 24)\n",
    "        u_images = down_images(re_image, 32, 32) \n",
    "        n_imagesa.extend(u_images)\n",
    "        c_newa.extend(n_classes)    \n",
    "    \n",
    "    ytrain = c_newa\n",
    "    Xtrain = n_imagesa\n",
    "    \n",
    "    return Xtrain, ytrain"
   ]
  },
  {
   "cell_type": "markdown",
   "metadata": {},
   "source": [
    "5: This Section shows the data before Preprocessing of images."
   ]
  },
  {
   "cell_type": "code",
   "execution_count": 6,
   "metadata": {},
   "outputs": [
    {
     "name": "stdout",
     "output_type": "stream",
     "text": [
      "[180, 1980, 2010, 1260, 1770, 1650, 360, 1290, 1260, 1320, 1800, 1170, 1890, 1920, 690, 540, 360, 990, 1080, 180, 300, 270, 330, 450, 240, 1350, 540, 210, 480, 240, 390, 690, 210, 599, 360, 1080, 330, 180, 1860, 270, 300, 210, 210]\n",
      "Image Shape: (32, 32, 3)\n",
      "Training Set: 34799\n",
      "classes Set: 34799\n",
      "Validation Set: 4410\n",
      "Test Set: 12630\n"
     ]
    },
    {
     "data": {
      "image/png": "[encoded data removed]",
      "text/plain": [
       "<matplotlib.figure.Figure at 0x28236c0a828>"
      ]
     },
     "metadata": {},
     "output_type": "display_data"
    },
    {
     "data": {
      "text/plain": [
       "<matplotlib.figure.Figure at 0x28236c9f9e8>"
      ]
     },
     "metadata": {},
     "output_type": "display_data"
    }
   ],
   "source": [
    "out_classesa = counter_classes(y_train)\n",
    "print(out_classesa)\n",
    "print(\"Image Shape: {}\" .format(X_train[0].shape))\n",
    "print(\"Training Set:\" , len(X_train))\n",
    "print(\"classes Set:\" , len(y_train))\n",
    "print(\"Validation Set:\" , n_validation )\n",
    "print(\"Test Set:\" , n_test )\n",
    "plt.bar(range(len(out_classesa)), out_classesa)\n",
    "plt.title('Each classes no of Images')\n",
    "plt.xlabel('Classes ',fontsize=16)\n",
    "plt.xticks(np.arange(0, 43, step=5))\n",
    "plt.ylabel('No of Image',fontsize=16)\n",
    "patching = mpatches.Patch(color='b', label='No of Images')\n",
    "plt.legend(handles=[patching])\n",
    "plt.figure()\n",
    "plt.show()"
   ]
  },
  {
   "cell_type": "markdown",
   "metadata": {},
   "source": [
    "6: This Section is full pipeline for preprocessing images and get more data and try to balance classes. and later conert grayscale and perform normilization input data( Validation and Traning )."
   ]
  },
  {
   "cell_type": "code",
   "execution_count": 7,
   "metadata": {},
   "outputs": [],
   "source": [
    "X_train, y_train = image_process(X_train, y_train, 0)\n",
    "X_valid, y_valid = image_process(X_valid, y_valid, 1)\n",
    "X_train = gray_images(X_train)\n",
    "X_valid = gray_images(X_valid)\n",
    "X_train  = normilization(X_train)\n",
    "X_valid = normilization(X_valid)"
   ]
  },
  {
   "cell_type": "markdown",
   "metadata": {},
   "source": [
    "6: This Section shows the data after Preprocessing of images."
   ]
  },
  {
   "cell_type": "code",
   "execution_count": 8,
   "metadata": {},
   "outputs": [
    {
     "name": "stdout",
     "output_type": "stream",
     "text": [
      "Image Shape: (32, 32, 1)\n",
      "Training Set: 59308\n",
      "classes Set: 59308\n",
      "Validation Set: 8820\n",
      "Test Set: 12630\n"
     ]
    },
    {
     "data": {
      "image/png": "[encoded data removed]",
      "text/plain": [
       "<matplotlib.figure.Figure at 0x283f15a7e10>"
      ]
     },
     "metadata": {},
     "output_type": "display_data"
    },
    {
     "data": {
      "text/plain": [
       "<matplotlib.figure.Figure at 0x28236c9fac8>"
      ]
     },
     "metadata": {},
     "output_type": "display_data"
    }
   ],
   "source": [
    "out_classesb = counter_classes(y_train)\n",
    "print(\"Image Shape: {}\" .format(X_train[0].shape))\n",
    "print(\"Training Set:\" , len(X_train))\n",
    "print(\"classes Set:\" , len(y_train))\n",
    "print(\"Validation Set:\" , len(X_valid) )\n",
    "print(\"Test Set:\" , len(X_test) )\n",
    "plt.bar(range(len(out_classesb)), out_classesb)\n",
    "plt.title('Each classes no of Images')\n",
    "plt.xlabel('Classes ',fontsize=16)\n",
    "plt.xticks(np.arange(0, 43, step=5))\n",
    "plt.ylabel('No of Image',fontsize=16)\n",
    "patching = mpatches.Patch(color='b', label='No of Images')\n",
    "plt.legend(handles=[patching])\n",
    "plt.figure()\n",
    "plt.show()"
   ]
  },
  {
   "cell_type": "markdown",
   "metadata": {},
   "source": [
    "7: This section shows the sampel of preprocessing data on new image."
   ]
  },
  {
   "cell_type": "code",
   "execution_count": 9,
   "metadata": {},
   "outputs": [
    {
     "data": {
      "image/png": "[encoded data removed]",
      "text/plain": [
       "<matplotlib.figure.Figure at 0x28236ccc9e8>"
      ]
     },
     "metadata": {},
     "output_type": "display_data"
    }
   ],
   "source": [
    "n_imagesa = []\n",
    "n_imagesb = []\n",
    "ima = []\n",
    "image = cv2.imread (\"C:/Users/pramo/Documents/Project2/stop.png\")\n",
    "image = cv2.resize(image, (32, 32), cv2.INTER_LINEAR)\n",
    "images = np.array(image, dtype=np.uint8)\n",
    "images = images.astype('float32')\n",
    "ima.append (images)\n",
    "\n",
    "d_imagesa = down_images(ima, 24, 24)\n",
    "d_imagesb = down_images(ima, 26, 32)\n",
    "d_imagesc = down_images(ima, 32, 26)\n",
    "d_imagesd = down_images(ima, 26, 26)\n",
    "\n",
    "n_imagesb.extend(d_imagesa)\n",
    "n_imagesb.extend(d_imagesb)\n",
    "n_imagesb.extend(d_imagesc)\n",
    "n_imagesb.extend(d_imagesd)\n",
    "\n",
    "r_image = rescale_images(n_imagesb, 32,32)\n",
    "n_imagesa.extend(r_image)\n",
    "\n",
    "re_image = rescale_images(ima, 24, 24)\n",
    "u_images = down_images(re_image, 32, 32) \n",
    "n_imagesa.extend(u_images)\n",
    "n_imagesa = gray_images(n_imagesa)\n",
    "n_imagesa  = normilization(n_imagesa)\n",
    "\n",
    "fig=plt.figure(figsize=(8, 8))\n",
    "columns = 4\n",
    "rows = 4\n",
    "for i in range(len(n_imagesa)):\n",
    "    j= i+1\n",
    "    img = n_imagesa[i].squeeze()\n",
    "    fig.add_subplot(rows, columns, j)\n",
    "    plt.imshow(img, cmap=\"gray\")\n",
    "plt.show()"
   ]
  },
  {
   "cell_type": "markdown",
   "metadata": {},
   "source": [
    "8: This section shuffels the validation and traning data. "
   ]
  },
  {
   "cell_type": "code",
   "execution_count": 10,
   "metadata": {},
   "outputs": [],
   "source": [
    "X_train, y_train = shuffle(X_train, y_train)\n",
    "X_valid, y_valid = shuffle(X_valid, y_valid)"
   ]
  },
  {
   "cell_type": "markdown",
   "metadata": {},
   "source": [
    "### Model Architecture\n",
    "9: This section No of Epochs, batch size is and learning rate is defined."
   ]
  },
  {
   "cell_type": "code",
   "execution_count": 11,
   "metadata": {},
   "outputs": [],
   "source": [
    "EPOCHS = 30\n",
    "BATCH_SIZE = 128\n",
    "rate = 0.0001"
   ]
  },
  {
   "cell_type": "markdown",
   "metadata": {},
   "source": [
    "10: This section the convolution, maxpooling and fullyconnected functions are written. This functins are called or used whenever\n",
    "the layer needs to defined. Convolution layer takes batches or previous layer output and Filter height, width and input depth of previous layer and outdepth is required. Maxpooling layer takes input of previous layer output. Fullyconnected layer layer takes input of previous layer output and no output required. "
   ]
  },
  {
   "cell_type": "code",
   "execution_count": 12,
   "metadata": {},
   "outputs": [],
   "source": [
    "def conv_layer(layer_input, filter_height, filter_width, input_depth, output_depth):\n",
    "    mu = 0\n",
    "    sigma = 0.1\n",
    "    conv_W = tf.Variable(tf.truncated_normal(shape=(filter_height, filter_width, input_depth, output_depth), mean = mu, stddev = sigma))\n",
    "    conv_b = tf.Variable(tf.zeros(output_depth))\n",
    "    conv   = tf.nn.conv2d(layer_input, conv_W, strides=[1, 1, 1, 1], padding='VALID') + conv_b\n",
    "    conv = tf.nn.relu(conv)\n",
    "    tf.summary.histogram(\"weight\", conv_W)\n",
    "    tf.summary.histogram(\"bias\", conv_b)\n",
    "    tf.summary.histogram(\"activation\", conv)\n",
    "    return conv\n",
    "\n",
    "def maxpooling_layer(layer_input):\n",
    "    return tf.nn.max_pool(layer_input, ksize=[1, 2, 2, 1], strides=[1, 2, 2, 1], padding='VALID')\n",
    "\n",
    "def fullyconnected_layer(layer_input, output_full):\n",
    "    fc = tf.layers.dense(inputs=layer_input, units=output_full)\n",
    "    fc = tf.nn.relu(fc)\n",
    "    tf.summary.histogram(\"activation2\", fc)\n",
    "    return fc   "
   ]
  },
  {
   "cell_type": "markdown",
   "metadata": {},
   "source": [
    "11: In this section all the layers defined."
   ]
  },
  {
   "cell_type": "code",
   "execution_count": 13,
   "metadata": {},
   "outputs": [],
   "source": [
    "def trafficNet(input_data):    \n",
    "  \n",
    "    # Layer 1: Convolutional. Input = 32x32x1, Output = 28x28x8.\n",
    "    with tf.variable_scope(\"conv_a\"):\n",
    "        conv_layer_a = conv_layer(input_data, 5, 5, 1, 8) \n",
    "               \n",
    "    # Layer 2: Convolutional Input = 28x28x16, Output = 24x24x16.\n",
    "    with tf.variable_scope(\"conv_b\"):\n",
    "        conv_layer_b = conv_layer(conv_layer_a, 5, 5, 8, 16) \n",
    "    # Pooling. Input = 24x24x16, Output = 12x12x16.\n",
    "    with tf.variable_scope(\"max_a\"):\n",
    "        conv_layer_b = maxpooling_layer(conv_layer_b) \n",
    "    \n",
    "    # Layer 3: Convolutional. input = 12x12x16, Output = 8x8x64.\n",
    "    with tf.variable_scope(\"conv_c\"):\n",
    "        conv_layer_c = conv_layer(conv_layer_b, 5, 5, 16, 64) \n",
    "    # Pooling. Input = 8x8x64, Output = 4x4x64.\n",
    "    with tf.variable_scope(\"max_b\"):\n",
    "        conv_layer_c = maxpooling_layer(conv_layer_c)\n",
    "    \n",
    "    # Flatten. Input = 4x4x64. Output = 1024.\n",
    "    with tf.variable_scope(\"flattern\"):\n",
    "        flat_a   = Flatten()(conv_layer_c)\n",
    "\n",
    "    # Layer 4: Fully Connected. Input = 1024. Output = 512.\n",
    "    with tf.variable_scope(\"dense_a\"):\n",
    "        fc_a   = fullyconnected_layer(flat_a, 512)\n",
    "    with tf.variable_scope(\"drop_a\"):\n",
    "        fc_a   = tf.nn.dropout(fc_a, keep_prob)\n",
    "\n",
    "    # Layer 5: Fully Connected. Input = 512. Output = 256.\n",
    "    with tf.variable_scope(\"dense_b\"):\n",
    "        fc_b   = fullyconnected_layer(fc_a, 256)\n",
    "    with tf.variable_scope(\"drop_b\"):\n",
    "        fc_b   = tf.nn.dropout(fc_b, keep_prob)\n",
    "    \n",
    "    # Layer 6: Fully Connected. Input = 256. Output = 128\n",
    "    with tf.variable_scope(\"dense_c\"):\n",
    "        fc_c   = fullyconnected_layer(fc_b, 128)\n",
    "    with tf.variable_scope(\"drop_c\"):\n",
    "        fc_c   = tf.nn.dropout(fc_c, keep_prob)\n",
    "\n",
    "    # Layer 7 Fully Connected. Input = 128. Output = 43.\n",
    "    with tf.variable_scope(\"dense_d\"):\n",
    "        fc_d   = fullyconnected_layer(fc_c, 43)\n",
    "    \n",
    "    return fc_d "
   ]
  },
  {
   "cell_type": "markdown",
   "metadata": {},
   "source": [
    "12: This section all the variables are defined to get out accuracy, predection ,probility , and optimizer used for traning."
   ]
  },
  {
   "cell_type": "code",
   "execution_count": 14,
   "metadata": {},
   "outputs": [],
   "source": [
    "traffic_sign = trafficNet(input_data)\n",
    "with tf.variable_scope(\"cross_entropy\"):\n",
    "    cross_entropy = tf.nn.softmax_cross_entropy_with_logits_v2(labels=n_classes, logits = traffic_sign)\n",
    "with tf.variable_scope(\"loss_operation\"):\n",
    "    loss_operation = tf.reduce_mean(cross_entropy)\n",
    "with tf.variable_scope(\"Adamoptimizer\"):\n",
    "    optimizer = tf.train.AdamOptimizer(learning_rate = rate)\n",
    "with tf.variable_scope(\"AdamoptimizerO/Pminimizer\"):\n",
    "    training_operation = optimizer.minimize(loss_operation)\n",
    "correct_prediction = tf.equal(tf.argmax(traffic_sign, 1), tf.argmax(n_classes, 1))\n",
    "accuracy_operation = tf.reduce_mean(tf.cast(correct_prediction, tf.float32))\n",
    "classes_predection = (tf.cast(correct_prediction, tf.float32))\n",
    "with tf.variable_scope(\"Softmax_problity\"):\n",
    "    softmax_prob = tf.nn.softmax(traffic_sign)\n",
    "    \n",
    "tf.summary.scalar(\"loss\", loss_operation)\n",
    "tf.summary.scalar(\"accuracy\", accuracy_operation)\n",
    "\n",
    "all_Summary_tf = tf.summary.merge_all()\n",
    "saver = tf.train.Saver()"
   ]
  },
  {
   "cell_type": "markdown",
   "metadata": {},
   "source": [
    "13: In this section eveulate function returns the accuracy, classpredection function returns 1 correct predction or 0 for wrong, softmax probility get the probility of input data. and tokK function get the top 5 probility for predection. "
   ]
  },
  {
   "cell_type": "code",
   "execution_count": 15,
   "metadata": {},
   "outputs": [],
   "source": [
    "def evaluate(X_data, y_data):\n",
    "    num_examples = len(X_data)\n",
    "    total_accuracy = 0\n",
    "    sess = tf.get_default_session()\n",
    "    for offset in range(0, num_examples, BATCH_SIZE):\n",
    "        batch_x, batch_y = X_data[offset:offset+BATCH_SIZE], y_data[offset:offset+BATCH_SIZE] \n",
    "        accuracy = sess.run(accuracy_operation, feed_dict={input_data: batch_x, y: batch_y, keep_prob: 1.0})            \n",
    "        total_accuracy += (accuracy * len(batch_x))\n",
    "    return total_accuracy / num_examples\n",
    "\n",
    "def class_predection(X_data, y_data):\n",
    "    num_examples = len(X_data)\n",
    "    sess = tf.get_default_session()\n",
    "    for offset in range(0, num_examples, BATCH_SIZE):\n",
    "        batch_x, batch_y = X_data[offset:offset+BATCH_SIZE], y_data[offset:offset+BATCH_SIZE] \n",
    "        classpredection = sess.run(classes_predection, feed_dict={input_data: batch_x, y: batch_y, keep_prob: 1.0})                    \n",
    "    return classpredection\n",
    "\n",
    "def softmax_problity(X_data, y_data):\n",
    "    num_examples = len(X_data)\n",
    "    sess = tf.get_default_session()\n",
    "    for offset in range(0, num_examples, BATCH_SIZE):\n",
    "        batch_x, batch_y = X_data[offset:offset+BATCH_SIZE], y_data[offset:offset+BATCH_SIZE] \n",
    "        softmaxproblity = sess.run(softmax_prob, feed_dict={input_data: batch_x, y: batch_y, keep_prob: 1.0})                    \n",
    "    return softmaxproblity\n",
    "\n",
    "def top_k(test): \n",
    "    sess = tf.get_default_session()   \n",
    "    topk = sess.run(tf.nn.top_k(tf.constant(test), k=5))                \n",
    "    return topk\n",
    "\n",
    "def losses_data(X_data, y_data):\n",
    "    num_examples = len(X_data)\n",
    "    sess = tf.get_default_session()\n",
    "    for offset in range(0, num_examples, BATCH_SIZE):\n",
    "        batch_x, batch_y = X_data[offset:offset+BATCH_SIZE], y_data[offset:offset+BATCH_SIZE] \n",
    "        lossdata = sess.run(loss_operation, feed_dict={input_data: batch_x, y: batch_y, keep_prob: 1.0})                    \n",
    "    return lossdata"
   ]
  },
  {
   "cell_type": "markdown",
   "metadata": {},
   "source": [
    "### Train, Validate and Test the Model\n",
    "14: This section the traning pipeline is defined, calculate accuracy, loss and gets output. "
   ]
  },
  {
   "cell_type": "code",
   "execution_count": 16,
   "metadata": {},
   "outputs": [
    {
     "name": "stdout",
     "output_type": "stream",
     "text": [
      "Training...\n",
      "\n",
      "EPOCH 1 ...\n",
      "Traning Accuracy = 0.190 Validation Accuracy = 0.174 Validation loss = 3.531\n",
      "\n",
      "EPOCH 2 ...\n",
      "Traning Accuracy = 0.466 Validation Accuracy = 0.463 Validation loss = 2.445\n",
      "\n",
      "EPOCH 3 ...\n",
      "Traning Accuracy = 0.616 Validation Accuracy = 0.606 Validation loss = 1.690\n",
      "\n",
      "EPOCH 4 ...\n",
      "Traning Accuracy = 0.744 Validation Accuracy = 0.686 Validation loss = 1.224\n",
      "\n",
      "EPOCH 5 ...\n",
      "Traning Accuracy = 0.827 Validation Accuracy = 0.738 Validation loss = 0.949\n",
      "\n",
      "EPOCH 6 ...\n",
      "Traning Accuracy = 0.915 Validation Accuracy = 0.827 Validation loss = 0.715\n",
      "\n",
      "EPOCH 7 ...\n",
      "Traning Accuracy = 0.944 Validation Accuracy = 0.862 Validation loss = 0.574\n",
      "\n",
      "EPOCH 8 ...\n",
      "Traning Accuracy = 0.961 Validation Accuracy = 0.884 Validation loss = 0.461\n",
      "\n",
      "EPOCH 9 ...\n",
      "Traning Accuracy = 0.974 Validation Accuracy = 0.909 Validation loss = 0.331\n",
      "\n",
      "EPOCH 10 ...\n",
      "Traning Accuracy = 0.979 Validation Accuracy = 0.911 Validation loss = 0.285\n",
      "\n",
      "EPOCH 11 ...\n",
      "Traning Accuracy = 0.984 Validation Accuracy = 0.927 Validation loss = 0.235\n",
      "\n",
      "EPOCH 12 ...\n",
      "Traning Accuracy = 0.987 Validation Accuracy = 0.932 Validation loss = 0.213\n",
      "\n",
      "EPOCH 13 ...\n",
      "Traning Accuracy = 0.990 Validation Accuracy = 0.943 Validation loss = 0.172\n",
      "\n",
      "EPOCH 14 ...\n",
      "Traning Accuracy = 0.991 Validation Accuracy = 0.942 Validation loss = 0.154\n",
      "\n",
      "EPOCH 15 ...\n",
      "Traning Accuracy = 0.993 Validation Accuracy = 0.947 Validation loss = 0.144\n",
      "\n",
      "EPOCH 16 ...\n",
      "Traning Accuracy = 0.994 Validation Accuracy = 0.949 Validation loss = 0.138\n",
      "\n",
      "EPOCH 17 ...\n",
      "Traning Accuracy = 0.994 Validation Accuracy = 0.953 Validation loss = 0.129\n",
      "\n",
      "EPOCH 18 ...\n",
      "Traning Accuracy = 0.995 Validation Accuracy = 0.956 Validation loss = 0.137\n",
      "\n",
      "EPOCH 19 ...\n",
      "Traning Accuracy = 0.996 Validation Accuracy = 0.957 Validation loss = 0.121\n",
      "\n",
      "EPOCH 20 ...\n",
      "Traning Accuracy = 0.996 Validation Accuracy = 0.958 Validation loss = 0.125\n",
      "\n",
      "EPOCH 21 ...\n",
      "Traning Accuracy = 0.997 Validation Accuracy = 0.960 Validation loss = 0.120\n",
      "\n",
      "EPOCH 22 ...\n",
      "Traning Accuracy = 0.997 Validation Accuracy = 0.962 Validation loss = 0.098\n",
      "\n",
      "EPOCH 23 ...\n",
      "Traning Accuracy = 0.998 Validation Accuracy = 0.962 Validation loss = 0.097\n",
      "\n",
      "EPOCH 24 ...\n",
      "Traning Accuracy = 0.998 Validation Accuracy = 0.963 Validation loss = 0.099\n",
      "\n",
      "EPOCH 25 ...\n",
      "Traning Accuracy = 0.998 Validation Accuracy = 0.962 Validation loss = 0.121\n",
      "\n",
      "EPOCH 26 ...\n",
      "Traning Accuracy = 0.998 Validation Accuracy = 0.962 Validation loss = 0.113\n",
      "\n",
      "EPOCH 27 ...\n",
      "Traning Accuracy = 0.998 Validation Accuracy = 0.962 Validation loss = 0.104\n",
      "\n",
      "EPOCH 28 ...\n",
      "Traning Accuracy = 0.999 Validation Accuracy = 0.966 Validation loss = 0.098\n",
      "\n",
      "EPOCH 29 ...\n",
      "Traning Accuracy = 0.999 Validation Accuracy = 0.966 Validation loss = 0.123\n",
      "\n",
      "EPOCH 30 ...\n",
      "Traning Accuracy = 0.999 Validation Accuracy = 0.965 Validation loss = 0.123\n",
      "\n",
      "Model saved\n"
     ]
    },
    {
     "data": {
      "image/png": "[encoded data removed]",
      "text/plain": [
       "<matplotlib.figure.Figure at 0x283d8cca4a8>"
      ]
     },
     "metadata": {},
     "output_type": "display_data"
    },
    {
     "data": {
      "text/plain": [
       "<matplotlib.figure.Figure at 0x283d8ec0e10>"
      ]
     },
     "metadata": {},
     "output_type": "display_data"
    }
   ],
   "source": [
    "with tf.Session() as sess:\n",
    "    sess.run(tf.global_variables_initializer())\n",
    "    num_examples = len(X_train)\n",
    "    writer = tf.summary.FileWriter(\"C:/Users/pramo/Documents/Project2/logs/\", sess.graph)\n",
    "    print(\"Training...\")\n",
    "    print()\n",
    "    for i in range(EPOCHS):\n",
    "        X_train, y_train = shuffle(X_train, y_train)\n",
    "        for offset in range(0, num_examples, BATCH_SIZE):\n",
    "            end = offset + BATCH_SIZE\n",
    "            batch_x, batch_y = X_train[offset:end], y_train[offset:end]\n",
    "            summ, _ = sess.run([all_Summary_tf, training_operation], feed_dict={input_data: batch_x, y: batch_y, keep_prob: 0.4})   \n",
    "            writer.add_summary(summ, i)\n",
    "        train_accuracy = evaluate(X_train, y_train)        \n",
    "        validation_accuracy = evaluate(X_valid, y_valid)      \n",
    "        validation_loss = losses_data(X_valid, y_valid)\n",
    "        Validation_accuracy.append(validation_accuracy)\n",
    "        Train_accuracy.append(train_accuracy)\n",
    "    \n",
    "        print(\"EPOCH {} ...\".format(i+1))\n",
    "        print(\"Traning Accuracy = {:.3f}\".format(train_accuracy),\"Validation Accuracy = {:.3f}\".format(validation_accuracy), \"Validation loss = {:.3f}\".format(validation_loss) )\n",
    "        print()\n",
    "        \n",
    "    saver.save(sess, './trafficsign')\n",
    "    print(\"Model saved\")\n",
    "    plt.plot(range(len(Validation_accuracy)), Validation_accuracy, 'r', label='Validation Accuracy')\n",
    "    plt.plot(range(len(Train_accuracy)), Train_accuracy, 'b', label='Train Aaccuracy')\n",
    "    plt.title('Validation/Traning Accuracy')\n",
    "    plt.xlabel('Epochs ',fontsize=16)\n",
    "    plt.ylabel('Accuracy',fontsize=16)\n",
    "    plt.legend()\n",
    "    plt.figure()\n",
    "    plt.show() "
   ]
  },
  {
   "cell_type": "markdown",
   "metadata": {},
   "source": [
    "15: This section gets output accuracy on test images."
   ]
  },
  {
   "cell_type": "code",
   "execution_count": 17,
   "metadata": {},
   "outputs": [
    {
     "name": "stdout",
     "output_type": "stream",
     "text": [
      "INFO:tensorflow:Restoring parameters from .\\trafficsign\n",
      "Test Accuracy = 0.959\n"
     ]
    }
   ],
   "source": [
    "X_test = gray_images(X_test)\n",
    "X_test = normilization(X_test)\n",
    "with tf.Session() as sess:\n",
    "    saver.restore(sess, tf.train.latest_checkpoint('.'))\n",
    "    test_accuracy = evaluate(X_test, y_test)\n",
    "    print(\"Test Accuracy = {:.3f}\".format(test_accuracy))"
   ]
  },
  {
   "cell_type": "markdown",
   "metadata": {},
   "source": [
    "## Step 3: Test a Model on New Images\n",
    "### Predict the Sign Type for Each Image\n",
    "### Analyze Performance"
   ]
  },
  {
   "cell_type": "code",
   "execution_count": 18,
   "metadata": {},
   "outputs": [
    {
     "name": "stdout",
     "output_type": "stream",
     "text": [
      "C:/Users/pramo/Documents/Project2\\noentry.png\n",
      "C:/Users/pramo/Documents/Project2\\priority.png\n",
      "C:/Users/pramo/Documents/Project2\\slippery.png\n",
      "C:/Users/pramo/Documents/Project2\\speed70.png\n",
      "C:/Users/pramo/Documents/Project2\\stop.png\n",
      "C:/Users/pramo/Documents/Project2\\yield.png\n",
      "INFO:tensorflow:Restoring parameters from ./trafficsign\n",
      "[1. 1. 1. 1. 1. 1.]\n",
      "1.0\n"
     ]
    },
    {
     "data": {
      "image/png": "[encoded data removed]",
      "text/plain": [
       "<matplotlib.figure.Figure at 0x283d8ec6ba8>"
      ]
     },
     "metadata": {},
     "output_type": "display_data"
    }
   ],
   "source": [
    "testimages = []\n",
    "files = glob.glob (\"C:/Users/pramo/Documents/Project2/*.PNG\")\n",
    "for myFile in files:\n",
    "    print(myFile)\n",
    "    image = cv2.imread (myFile)\n",
    "    image = cv2.resize(image, (32, 32), cv2.INTER_LINEAR)\n",
    "    images = np.array(image, dtype=np.uint8)\n",
    "    images = images.astype('float32')\n",
    "    testimages.append (images)    \n",
    "testimages = gray_images(testimages)\n",
    "testimages  = normilization(testimages)\n",
    "with tf.Session() as sess:\n",
    "    saver.restore(sess, tf.train.latest_checkpoint('./'))\n",
    "    yVal = np.array([17, 12, 23, 4, 14, 13])\n",
    "    pred_accuracy = class_predection(testimages, yVal)\n",
    "    new_accuracy = evaluate(testimages, yVal)\n",
    "print(pred_accuracy)\n",
    "print(new_accuracy)\n",
    "\n",
    "fig=plt.figure(figsize=(8, 8))\n",
    "columns = 4\n",
    "rows = 4\n",
    "for i in range(len(testimages)):\n",
    "    j= i+1\n",
    "    img = testimages[i].squeeze()\n",
    "    fig.add_subplot(rows, columns, j)\n",
    "    plt.imshow(img, cmap=\"gray\")\n",
    "plt.show()"
   ]
  },
  {
   "cell_type": "markdown",
   "metadata": {},
   "source": [
    "### Output Top 5 Softmax Probabilities For Each Image Found on the Web\n",
    "16: This section Output Top 5 Softmax Probabilities For Each Image Found on the Web"
   ]
  },
  {
   "cell_type": "code",
   "execution_count": 19,
   "metadata": {},
   "outputs": [
    {
     "name": "stdout",
     "output_type": "stream",
     "text": [
      "C:/Users/pramo/Documents/Project2\\noentry.png\n",
      "C:/Users/pramo/Documents/Project2\\priority.png\n",
      "C:/Users/pramo/Documents/Project2\\slippery.png\n",
      "C:/Users/pramo/Documents/Project2\\speed70.png\n",
      "C:/Users/pramo/Documents/Project2\\stop.png\n",
      "C:/Users/pramo/Documents/Project2\\yield.png\n",
      "INFO:tensorflow:Restoring parameters from ./trafficsign\n",
      "TopKV2(values=array([[1.00000000e+00, 2.08867794e-13, 1.05313382e-13, 2.49310511e-14,\n",
      "        2.22550639e-14],\n",
      "       [9.99992490e-01, 7.56726195e-06, 1.28644691e-16, 1.07359626e-16,\n",
      "        6.11026407e-17],\n",
      "       [9.88313675e-01, 5.80488425e-03, 2.62709870e-03, 1.28795765e-03,\n",
      "        1.04666979e-03],\n",
      "       [1.00000000e+00, 4.30863878e-09, 3.81032450e-09, 1.47926726e-10,\n",
      "        1.17841681e-10],\n",
      "       [9.99999881e-01, 1.08919394e-07, 4.19129265e-09, 2.13694573e-09,\n",
      "        1.98499905e-09],\n",
      "       [1.00000000e+00, 5.13328605e-15, 1.39614098e-18, 5.41570088e-19,\n",
      "        4.29444774e-19]], dtype=float32), indices=array([[17,  8,  0, 38, 34],\n",
      "       [12, 40, 32, 26, 15],\n",
      "       [23, 19, 28, 29, 31],\n",
      "       [ 4,  1,  0,  8,  5],\n",
      "       [14, 33, 15,  2, 18],\n",
      "       [13, 15, 28, 25, 35]]))\n"
     ]
    },
    {
     "data": {
      "image/png": "[encoded data removed]",
      "text/plain": [
       "<matplotlib.figure.Figure at 0x283d8c542b0>"
      ]
     },
     "metadata": {},
     "output_type": "display_data"
    }
   ],
   "source": [
    "testimages = []\n",
    "files = glob.glob (\"C:/Users/pramo/Documents/Project2/*.PNG\")\n",
    "for myFile in files:\n",
    "    print(myFile)\n",
    "    image = cv2.imread (myFile)\n",
    "    image = cv2.resize(image, (32, 32), cv2.INTER_LINEAR)\n",
    "    images = np.array(image, dtype=np.uint8)\n",
    "    images = images.astype('float32')\n",
    "    testimages.append (images)\n",
    "testimages = gray_images(testimages)\n",
    "testimages  = normilization(testimages)\n",
    "with tf.Session() as sess:\n",
    "    saver.restore(sess, tf.train.latest_checkpoint('./'))\n",
    "    yVal = np.arange(0, 43, 1)\n",
    "    test = softmax_problity(testimages, yVal)\n",
    "    testaccuracy = top_k(test)\n",
    "    print(testaccuracy)    \n",
    "fig=plt.figure(figsize=(8, 8))\n",
    "columns = 4\n",
    "rows = 4\n",
    "for i in range(len(testimages)):\n",
    "    j= i+1\n",
    "    img = testimages[i].squeeze()\n",
    "    fig.add_subplot(rows, columns, j)\n",
    "    plt.imshow(img, cmap=\"gray\")\n",
    "plt.show()"
   ]
  }
 ],
 "metadata": {
  "kernelspec": {
   "display_name": "Python 3",
   "language": "python",
   "name": "python3"
  },
  "language_info": {
   "codemirror_mode": {
    "name": "ipython",
    "version": 3
   },
   "file_extension": ".py",
   "mimetype": "text/x-python",
   "name": "python",
   "nbconvert_exporter": "python",
   "pygments_lexer": "ipython3",
   "version": "3.6.5"
  }
 },
 "nbformat": 4,
 "nbformat_minor": 2
}
